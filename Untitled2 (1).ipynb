{
  "nbformat": 4,
  "nbformat_minor": 0,
  "metadata": {
    "colab": {
      "name": "Untitled2.ipynb",
      "provenance": [],
      "collapsed_sections": []
    },
    "kernelspec": {
      "name": "python3",
      "display_name": "Python 3"
    },
    "language_info": {
      "name": "python"
    }
  },
  "cells": [
    {
      "cell_type": "code",
      "metadata": {
        "colab": {
          "base_uri": "https://localhost:8080/"
        },
        "id": "hQw60iK8Rqh6",
        "outputId": "55150dfb-f343-405a-fc5a-fe0f45ea8cda"
      },
      "source": [
        "lst = []\n",
        "res=1\n",
        "n = int(input(\"Enter number of elements : \"))\n",
        "for i in range(0, n):\n",
        "    ele = int(input())\n",
        "    lst.append(ele)\n",
        "print(lst)\n",
        "for item in lst:\n",
        "  res=res*item\n",
        "print(\"result\",res)\n"
      ],
      "execution_count": null,
      "outputs": [
        {
          "output_type": "stream",
          "name": "stdout",
          "text": [
            "Enter number of elements : 3\n",
            "2\n",
            "3\n",
            "6\n",
            "[2, 3, 6]\n",
            "result 36\n"
          ]
        }
      ]
    },
    {
      "cell_type": "code",
      "metadata": {
        "colab": {
          "base_uri": "https://localhost:8080/"
        },
        "id": "yFhUkgZszi5A",
        "outputId": "3b73e3c8-b31c-44be-a19e-ce3e3c39a5c1"
      },
      "source": [
        "list=[(2, 5), (1, 2), (4, 4), (2, 3), (2, 1)]\n",
        "list.sort(key=lambda x: x[1])\n",
        "print(list)"
      ],
      "execution_count": 33,
      "outputs": [
        {
          "output_type": "stream",
          "name": "stdout",
          "text": [
            "[(2, 1), (1, 2), (2, 3), (4, 4), (2, 5)]\n"
          ]
        }
      ]
    },
    {
      "cell_type": "code",
      "metadata": {
        "colab": {
          "base_uri": "https://localhost:8080/"
        },
        "id": "O9oUjqLnUUeM",
        "outputId": "4b443ca4-b607-4ae2-f967-a3d52f74b15d"
      },
      "source": [
        " import copy\n",
        "\n",
        "d1 = {'a': 100, 'b': 200, 'c':300}\n",
        "d2 = {'a': 300, 'b': 200, 'd':400}\n",
        "d3 = copy.deepcopy(d1)\n",
        "d3.update(d2)\n",
        "for key in d1.keys():\n",
        "  for key1 in d2.keys():\n",
        "    if key==key1:\n",
        "      d3[key1]=d1[key1]+d2[key1]\n",
        "\n",
        "\n",
        "print(d3)"
      ],
      "execution_count": null,
      "outputs": [
        {
          "output_type": "stream",
          "name": "stdout",
          "text": [
            "{'a': 400, 'b': 400, 'c': 300, 'd': 400}\n"
          ]
        }
      ]
    },
    {
      "cell_type": "code",
      "metadata": {
        "colab": {
          "base_uri": "https://localhost:8080/"
        },
        "id": "AwyfCUSHd9KO",
        "outputId": "c7cb6549-2fde-403c-e3d1-1083e056ccc8"
      },
      "source": [
        "print(d1)"
      ],
      "execution_count": null,
      "outputs": [
        {
          "output_type": "stream",
          "name": "stdout",
          "text": [
            "{'a': 600, 'b': 400, 'c': 300, 'd': 800}\n"
          ]
        }
      ]
    },
    {
      "cell_type": "code",
      "metadata": {
        "colab": {
          "base_uri": "https://localhost:8080/"
        },
        "id": "fEK4i9oBUUkg",
        "outputId": "9261b293-cbed-4e95-8023-8d80b65b14c8"
      },
      "source": [
        "n=int(input(\"n= :\"))\n",
        "s={i : i*i for i in range(1,n+1)}\n",
        "print (s)"
      ],
      "execution_count": null,
      "outputs": [
        {
          "output_type": "stream",
          "name": "stdout",
          "text": [
            "n= :8\n",
            "{1: 1, 2: 4, 3: 9, 4: 16, 5: 25, 6: 36, 7: 49, 8: 64}\n"
          ]
        }
      ]
    },
    {
      "cell_type": "code",
      "metadata": {
        "colab": {
          "base_uri": "https://localhost:8080/"
        },
        "id": "iEu6ILZ3pRcA",
        "outputId": "dfc014a2-dad5-4575-8788-53bc4cb02a38"
      },
      "source": [
        " list= [('item1', '12.20'), ('item2', '15.10'), ('item3', '24.5')]\n",
        " list.sort(key=lambda x: x[1],reverse=True)\n",
        " print (list)"
      ],
      "execution_count": 35,
      "outputs": [
        {
          "output_type": "stream",
          "name": "stdout",
          "text": [
            "[('item3', '24.5'), ('item2', '15.10'), ('item1', '12.20')]\n"
          ]
        }
      ]
    }
  ]
}